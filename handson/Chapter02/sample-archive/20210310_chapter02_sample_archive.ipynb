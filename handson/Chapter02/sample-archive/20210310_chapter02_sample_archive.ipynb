{
  "nbformat": 4,
  "nbformat_minor": 0,
  "metadata": {
    "colab": {
      "name": "20210310-chapter02-sample-archive.ipynb",
      "provenance": [],
      "collapsed_sections": []
    },
    "kernelspec": {
      "name": "python3",
      "display_name": "Python 3"
    }
  },
  "cells": [
    {
      "cell_type": "markdown",
      "metadata": {
        "id": "dBHyLN0zNUaF"
      },
      "source": [
        "# シンプルなモデルの作成手順"
      ]
    },
    {
      "cell_type": "markdown",
      "metadata": {
        "id": "XShYkwGWciV7"
      },
      "source": [
        "<a href=\"https://colab.research.google.com/github/JapanExchangeGroup/J-Quants-Tutorial/blob/main/handson/Chapter02/sample-archive/20210310-chapter02-sample-archive.ipynb\" target=\"_parent\"><img src=\"https://colab.research.google.com/assets/colab-badge.svg\" alt=\"Open In Colab\"/></a>"
      ]
    },
    {
      "cell_type": "markdown",
      "metadata": {
        "id": "SF9RtO0tOcYf"
      },
      "source": [
        "## 方針説明\n",
        "\n",
        "本文章は「ファンダメンタルズ分析チャレンジ」においてシンプルなモデルを作成することを目的としています。\n",
        "\n",
        "本書を読みながら一連のステップを完了するための必要時間はおおよそ20分です。\n",
        "\n",
        "以下のステップで進めます。\n",
        "\n",
        "1. 前提条件\n",
        "1. コンペティションページからデータの取得\n",
        "1. Google Drive にデータを配置\n",
        "1. Google Colaboratory で新規ノートブックの作成\n",
        "1. Google Drive をマウント\n",
        "1. データの読み込み\n",
        "1. 特徴量の作成\n",
        "1. モデル出力を調整\n",
        "1. パッケージ化"
      ]
    },
    {
      "cell_type": "markdown",
      "metadata": {
        "id": "tXnjobxPOc35"
      },
      "source": [
        "## 前提条件\n",
        "\n",
        "本書は以下の事項を前提条件として記載されています。\n",
        "\n",
        "1. 「ファンダメンタルズ分析チャレンジ」にご参加いただいていること\n",
        "1. Google アカウントを保有されていること\n",
        "1. Google Colaboratory を使用できること\n",
        "1. インターネットに接続されていること\n",
        "1. Pythonについて基礎的な知識をお持ちであること\n",
        "1. Pandasについて基礎的な知識をお持ちであること"
      ]
    },
    {
      "cell_type": "markdown",
      "metadata": {
        "id": "8u9S4RCLOb_9"
      },
      "source": [
        "## コンペティションページのデータタブより以下のデータをダウンロード\n",
        "\n",
        "データタブ: https://signate.jp/competitions/423/data\n",
        "\n",
        "- stock_price (stock_price.csv.gz)"
      ]
    },
    {
      "cell_type": "markdown",
      "metadata": {
        "id": "fKQah8erObqR"
      },
      "source": [
        "## Google Drive にデータを配置\n",
        "\n",
        "Google Drive: https://drive.google.com/\n",
        "\n",
        "1. My Drive 配下に `JPX_competition` フォルダを作成します。\n",
        "1. `JPX_competition` フォルダにダウンロードした `stock_price.csv.gz` ファイルを配置します。"
      ]
    },
    {
      "cell_type": "markdown",
      "metadata": {
        "id": "Z2yiQ-dfOv8h"
      },
      "source": [
        "## Google Colaboratory で新規ノートブックの作成\n",
        "\n",
        "1. Google Colaboratory を開きます。https://colab.research.google.com/\n",
        "1. メニューバーの「ファイル」から「ノートブックを新規作成」を選択します。\n",
        "1. ノートブック名を「jpx-comp1-simple-model.ipynb」とします。\n",
        "1. 画面右上にある「接続」を押下してランタイムに接続します。\n",
        "1. 必要なモジュールを読み込んでおきます。"
      ]
    },
    {
      "cell_type": "code",
      "metadata": {
        "id": "r-9qhevBCbZ6"
      },
      "source": [
        "import os\n",
        "import io\n",
        "\n",
        "import pandas as pd"
      ],
      "execution_count": null,
      "outputs": []
    },
    {
      "cell_type": "markdown",
      "metadata": {
        "id": "y8YE12qvOzph"
      },
      "source": [
        "## Google Drive をマウント\n",
        "\n",
        "1. 先程配置した `stock_price` を読み込むために Google Drive をマウントします。\n",
        "1. 画面左端サイドバーの一番下に配置されているフォルダのアイコンを押下して開いたペインで、Google Driveのアイコン(「ドライブをマウント」)を押下します。\n",
        "1. ダイアログで「GOOGLE ドライブに接続」を押下します。\n",
        "1. これで `/content/drive/MyDrive/JPX_competition` というパスでアクセスできます。"
      ]
    },
    {
      "cell_type": "code",
      "metadata": {
        "id": "tE-OtT-T_yBk"
      },
      "source": [
        "dataset_dir = \"/content/drive/MyDrive/JPX_competition\"\n",
        "os.path.isdir(dataset_dir)"
      ],
      "execution_count": null,
      "outputs": []
    },
    {
      "cell_type": "markdown",
      "metadata": {
        "id": "4r6toO3hO3xd"
      },
      "source": [
        "## データの読み込み"
      ]
    },
    {
      "cell_type": "markdown",
      "metadata": {
        "id": "mbUGLJrmPCKK"
      },
      "source": [
        "データを読み込む際にランタイム環境と同一方法で読み込むために、inputs変数を作ります。"
      ]
    },
    {
      "cell_type": "code",
      "metadata": {
        "id": "sj5c-F5lC0vf"
      },
      "source": [
        "inputs = {\"stock_price\": f\"{dataset_dir}/stock_price.csv.gz\"}"
      ],
      "execution_count": null,
      "outputs": []
    },
    {
      "cell_type": "markdown",
      "metadata": {
        "id": "W0VRWJShPJPL"
      },
      "source": [
        "データを読み込みます。"
      ]
    },
    {
      "cell_type": "code",
      "metadata": {
        "id": "EmWuJPHoB7G3"
      },
      "source": [
        "df = pd.read_csv(inputs[\"stock_price\"])\n",
        "df.head(1)"
      ],
      "execution_count": null,
      "outputs": []
    },
    {
      "cell_type": "markdown",
      "metadata": {
        "id": "ohU3O1SFPLDD"
      },
      "source": [
        "インデックスを調整します。"
      ]
    },
    {
      "cell_type": "code",
      "metadata": {
        "id": "V9G3_ZpsDDEV"
      },
      "source": [
        "df.loc[:, \"datetime\"] = pd.to_datetime(df.loc[:, \"EndOfDayQuote Date\"])\n",
        "df.set_index(\"datetime\", inplace=True)\n",
        "df.head(1)"
      ],
      "execution_count": null,
      "outputs": []
    },
    {
      "cell_type": "markdown",
      "metadata": {
        "id": "hJXm2ICrPNZT"
      },
      "source": [
        "## 特徴量の作成"
      ]
    },
    {
      "cell_type": "markdown",
      "metadata": {
        "id": "mmkANZf_PO77"
      },
      "source": [
        "特徴量を作成します。今回は過去20営業日のボラティリティが最高値・最安値と相関している、すなわち、決算発表があった日から過去20営業日間のヒストリカル・ボラティリティが大きければ、決算発表から20営業日後の間の最高値・最安値への変化率も大きくなるという仮説を基に、ヒストリカル・ボラティリティを採用しています。"
      ]
    },
    {
      "cell_type": "code",
      "metadata": {
        "id": "dcC6dozsGv1g"
      },
      "source": [
        "feats = (\n",
        "    df[[\"EndOfDayQuote ExchangeOfficialClose\", \"Local Code\"]]\n",
        "    .groupby(\"Local Code\")\n",
        "    .pct_change()\n",
        "    .rolling(20)\n",
        "    .std()\n",
        "    .values\n",
        ")\n",
        "feats[:21]"
      ],
      "execution_count": null,
      "outputs": []
    },
    {
      "cell_type": "markdown",
      "metadata": {
        "id": "onP1aKTFPR_1"
      },
      "source": [
        "## モデル出力を調整"
      ]
    },
    {
      "cell_type": "markdown",
      "metadata": {
        "id": "LFPSFttcPVWn"
      },
      "source": [
        "ランタイム環境でのモデル出力要件に合わせてデータフレームを調整します。\n",
        "\n",
        "```python\n",
        "    # 結果を以下のcsv形式で出力する\n",
        "    # １列目:datetimeとcodeをつなげたもの(Ex 2016-05-09-1301)\n",
        "    # ２列目:label_high_20　終値→最高値への変化率\n",
        "    # ３列目:label_low_20　終値→最安値への変化率\n",
        "    # headerはなし、２列３列はfloat64\n",
        "```"
      ]
    },
    {
      "cell_type": "markdown",
      "metadata": {
        "id": "wxqcSNGBPcCs"
      },
      "source": [
        "code列を作成して出力形式の１列目と一致させる"
      ]
    },
    {
      "cell_type": "code",
      "metadata": {
        "id": "5Nbquq1gG0_s"
      },
      "source": [
        "df.loc[:, \"code\"] = df.index.strftime(\"%Y-%m-%d-\") + df.loc[\n",
        "    :, \"Local Code\"\n",
        "].astype(str)\n",
        "df.head(1).T"
      ],
      "execution_count": null,
      "outputs": []
    },
    {
      "cell_type": "markdown",
      "metadata": {
        "id": "mfJmIGHLPY53"
      },
      "source": [
        "ヒストリカル・ボラティリティを予測値として２列３列目に設定します。これは、評価方法が順位相関であるため、大小関係を一致させれば予測値のとりうる範囲は関係ないためこの方法を使用しています。"
      ]
    },
    {
      "cell_type": "code",
      "metadata": {
        "id": "4B0SLK3UHFLx"
      },
      "source": [
        "df.loc[:, \"label_high_20\"] = feats\n",
        "df.loc[:, \"label_low_20\"] = feats"
      ],
      "execution_count": null,
      "outputs": []
    },
    {
      "cell_type": "markdown",
      "metadata": {
        "id": "QtLxASjxPtOV"
      },
      "source": [
        "CSV形式で出力する列を指定します。"
      ]
    },
    {
      "cell_type": "code",
      "metadata": {
        "id": "cbHv6PIrHQxc"
      },
      "source": [
        "output_columns = [\"code\", \"label_high_20\", \"label_low_20\"]"
      ],
      "execution_count": null,
      "outputs": []
    },
    {
      "cell_type": "markdown",
      "metadata": {
        "id": "VG1OswLBPvyL"
      },
      "source": [
        "結果を出力します。出力対象を2020年以降に限定し、Nanが含まれないように `dropna()` しています。"
      ]
    },
    {
      "cell_type": "code",
      "metadata": {
        "id": "39lugZnKHTdX"
      },
      "source": [
        "out = io.StringIO()\n",
        "df[output_columns].loc[\"2020-01-01\":].dropna().to_csv(out, header=False, index=False)\n",
        "\n",
        "print(\"\\n\".join(out.getvalue().split(\"\\n\")[:10]))"
      ],
      "execution_count": null,
      "outputs": []
    },
    {
      "cell_type": "markdown",
      "metadata": {
        "id": "gpxdLGlHPyHh"
      },
      "source": [
        "## パッケージ化"
      ]
    },
    {
      "cell_type": "markdown",
      "metadata": {
        "id": "r2UsDq6mP0ai"
      },
      "source": [
        "提出用にこれまでのコードから必要部分をScoringServiceとして以下のようにコピーします。"
      ]
    },
    {
      "cell_type": "code",
      "metadata": {
        "id": "qXhzXn_6HZyj"
      },
      "source": [
        "import io\n",
        "\n",
        "import pandas as pd\n",
        "\n",
        "class ScoringService(object):\n",
        "  @classmethod\n",
        "  def get_model(cls, model_path=\"../model\"):\n",
        "    return True\n",
        "\n",
        "  @classmethod\n",
        "  def predict(cls, inputs):\n",
        "    df = pd.read_csv(inputs[\"stock_price\"])\n",
        "    df.loc[:, \"datetime\"] = pd.to_datetime(df.loc[:, \"EndOfDayQuote Date\"])\n",
        "    df.set_index(\"datetime\", inplace=True)\n",
        "    feats = (\n",
        "        df[[\"EndOfDayQuote ExchangeOfficialClose\", \"Local Code\"]]\n",
        "        .groupby(\"Local Code\")\n",
        "        .pct_change()\n",
        "        .rolling(20)\n",
        "        .std()\n",
        "        .values\n",
        "    )\n",
        "    df.loc[:, \"code\"] = df.index.strftime(\"%Y-%m-%d-\") + df.loc[\n",
        "      :, \"Local Code\"\n",
        "    ].astype(str)\n",
        "    df.loc[:, \"label_high_20\"] = feats\n",
        "    df.loc[:, \"label_low_20\"] = feats\n",
        "    output_columns = [\"code\", \"label_high_20\", \"label_low_20\"]\n",
        "    out = io.StringIO()\n",
        "    df[output_columns].loc[\"2020-01-01\":].dropna().to_csv(out, header=False, index=False)\n",
        "\n",
        "    return out.getvalue()\n"
      ],
      "execution_count": null,
      "outputs": []
    },
    {
      "cell_type": "markdown",
      "metadata": {
        "id": "WZnPwb7lP6uj"
      },
      "source": [
        "get_model をテストします。\n",
        "\n",
        "`assert` ステートメントは `True` 以外の値のときに `AssertionError` 例外を発生させるため、一般的にはデバッグやテスト用途で使用されます。今回はメソッドの戻り値が期待通りの値かどうかを検証するために使用しています。"
      ]
    },
    {
      "cell_type": "code",
      "metadata": {
        "id": "doWIRgfRIxrJ"
      },
      "source": [
        "assert ScoringService.get_model()"
      ],
      "execution_count": null,
      "outputs": []
    },
    {
      "cell_type": "markdown",
      "metadata": {
        "id": "LgTKDavrP94f"
      },
      "source": [
        "predict をテストします。"
      ]
    },
    {
      "cell_type": "code",
      "metadata": {
        "id": "XSbaYgiwI5dS"
      },
      "source": [
        "actual = ScoringService.predict(inputs)\n",
        "assert out.getvalue() == actual\n",
        "print(\"\\n\".join(actual.split(\"\\n\")[:10]))"
      ],
      "execution_count": null,
      "outputs": []
    },
    {
      "cell_type": "markdown",
      "metadata": {
        "id": "teLjifxkQCQG"
      },
      "source": [
        "パッケージの構造を再確認します。\n",
        "\n",
        "https://signate.jp/features/runtime/detail\n",
        "以下のディレクトリ構造であること。\n",
        "```directory\n",
        ".\n",
        "├── model              必須 学習済モデルを置くディレクトリ\n",
        "│   └── ...\n",
        "├── src                必須 Python のプログラムを置くディレクトリ\n",
        "│   ├── predictor.py       必須 最初のプログラムが呼び出すファイル\n",
        "│   └── ...              その他のファイル (ディレクトリ作成可能)\n",
        "└── requirements.txt   任意\n",
        "```\n",
        "\n",
        "\n",
        "\n"
      ]
    },
    {
      "cell_type": "markdown",
      "metadata": {
        "id": "6I1vBev2QU9i"
      },
      "source": [
        "ScoringServiceクラスをpredictor.pyファイルに保存します。"
      ]
    },
    {
      "cell_type": "markdown",
      "metadata": {
        "id": "7nTuWvh7QX_e"
      },
      "source": [
        "modelディレクトリをzipファイルに含めるためにダミーファイルを作成します。"
      ]
    },
    {
      "cell_type": "markdown",
      "metadata": {
        "id": "GO-SR6e2Qg3P"
      },
      "source": [
        "```bash\n",
        "touch model/dummy.txt\n",
        "```"
      ]
    },
    {
      "cell_type": "markdown",
      "metadata": {
        "id": "FYxsYrGBQgdY"
      },
      "source": [
        "zipで圧縮します。\n",
        "```bash\n",
        "$ ls\n",
        "model src\n",
        "$ zip -v submit.zip src/predictor.py model/dummy.txt\n",
        "```"
      ]
    },
    {
      "cell_type": "markdown",
      "metadata": {
        "id": "9oaJ50IWQf77"
      },
      "source": [
        ""
      ]
    }
  ]
}