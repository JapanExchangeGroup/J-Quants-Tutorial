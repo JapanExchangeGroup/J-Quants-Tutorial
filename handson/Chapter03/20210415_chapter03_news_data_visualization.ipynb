{
 "cells": [
  {
   "cell_type": "code",
   "execution_count": null,
   "metadata": {},
   "outputs": [],
   "source": [
    "%%HTML\n",
    "<style>\n",
    "    div#notebook-container    { width: 100%; }\n",
    "    div#menubar-container     { width: 65%; }\n",
    "    div#maintoolbar-container { width: 99%; }\n",
    "</style>"
   ]
  },
  {
   "cell_type": "code",
   "execution_count": null,
   "metadata": {},
   "outputs": [],
   "source": [
    "import sys\n",
    "\n",
    "# データセットを配置したディレクトリのパスを設定\n",
    "if 'google.colab' in sys.modules:\n",
    "    dataset_dir = f\"{mount_dir}/MyDrive/JPX_competition/data_dir_comp2\"\n",
    "else:\n",
    "    dataset_dir = \"/notebook/data_dir_comp2\""
   ]
  },
  {
   "cell_type": "code",
   "execution_count": null,
   "metadata": {},
   "outputs": [],
   "source": [
    "from ast import literal_eval\n",
    "from collections import Counter\n",
    "from itertools import chain\n",
    "\n",
    "import pandas as pd\n",
    "import japanize_matplotlib"
   ]
  },
  {
   "cell_type": "code",
   "execution_count": null,
   "metadata": {},
   "outputs": [],
   "source": [
    "%matplotlib inline"
   ]
  },
  {
   "cell_type": "markdown",
   "metadata": {},
   "source": [
    "## データ読込"
   ]
  },
  {
   "cell_type": "code",
   "execution_count": null,
   "metadata": {},
   "outputs": [],
   "source": [
    "# 入力パラメーターを設定します。ランタイム環境での実行時と同一フォーマットにします\n",
    "inputs = {\n",
    "    \"stock_list\": f\"{dataset_dir}/stock_list.csv.gz\",\n",
    "    \"stock_price\": f\"{dataset_dir}/stock_price.csv.gz\",\n",
    "    \"stock_fin\": f\"{dataset_dir}/stock_fin.csv.gz\",\n",
    "    \"stock_fin_price\": f\"{dataset_dir}/stock_fin_price.csv.gz\",\n",
    "    # ニュースデータ\n",
    "    \"tdnet\": f\"{dataset_dir}/tdnet.csv.gz\",\n",
    "    \"disclosureItems\": f\"{dataset_dir}/disclosureItems.csv.gz\",\n",
    "    \"nikkei_article\": f\"{dataset_dir}/nikkei_article.csv.gz\",\n",
    "    \"article\": f\"{dataset_dir}/article.csv.gz\",\n",
    "    \"industry\": f\"{dataset_dir}/industry.csv.gz\",\n",
    "    \"industry2\": f\"{dataset_dir}/industry2.csv.gz\",\n",
    "    \"region\": f\"{dataset_dir}/region.csv.gz\",\n",
    "    \"theme\": f\"{dataset_dir}/theme.csv.gz\",\n",
    "    # 目的変数データ\n",
    "    \"stock_labels\": f\"{dataset_dir}/stock_labels.csv.gz\",\n",
    "}"
   ]
  },
  {
   "cell_type": "code",
   "execution_count": null,
   "metadata": {},
   "outputs": [],
   "source": [
    "# 銘柄リストを取得\n",
    "df_stock_list = pd.read_csv(inputs[\"stock_list\"])\n",
    "# 投資対象銘柄を取得\n",
    "stock_codes = df_stock_list.loc[df_stock_list.loc[:, \"universe_comp2\"] == True, \"Local Code\"]"
   ]
  },
  {
   "cell_type": "code",
   "execution_count": null,
   "metadata": {},
   "outputs": [],
   "source": [
    "# 日経電子版見出し・メタデータ読み込み\n",
    "df_nikkei_article = pd.read_csv(inputs[\"nikkei_article\"])\n",
    "# インデックスを記事の掲載日に設定\n",
    "df_nikkei_article.set_index(\"publish_datetime\", inplace=True)\n",
    "# インデックスを日付型に変換\n",
    "df_nikkei_article.index = pd.to_datetime(df_nikkei_article.index)\n",
    "# インデックスで安定ソート\n",
    "df_nikkei_article.sort_index(kind=\"mergesort\", inplace=True)"
   ]
  },
  {
   "cell_type": "code",
   "execution_count": null,
   "metadata": {},
   "outputs": [],
   "source": [
    "# 適時開示資料のメタデータ読み込み\n",
    "df_tdnet = pd.read_csv(inputs[\"tdnet\"])\n",
    "# インデックスを開示日時に設定\n",
    "df_tdnet.index = pd.to_datetime(df_tdnet[\"disclosedDate\"].astype(str) + \" \" + df_tdnet[\"disclosedTime\"])\n",
    "# インデックスで安定ソート\n",
    "df_tdnet.sort_index(kind=\"mergesort\", inplace=True)"
   ]
  },
  {
   "cell_type": "code",
   "execution_count": null,
   "metadata": {},
   "outputs": [],
   "source": [
    "# 公開項目コード一覧を読み込み\n",
    "df_disclosureitems = pd.read_csv(inputs[\"disclosureItems\"])"
   ]
  },
  {
   "cell_type": "markdown",
   "metadata": {},
   "source": [
    "## 日経電子版見出し・メタデータ"
   ]
  },
  {
   "cell_type": "code",
   "execution_count": null,
   "metadata": {},
   "outputs": [],
   "source": [
    "# 件数を確認\n",
    "df_nikkei_article.info()"
   ]
  },
  {
   "cell_type": "code",
   "execution_count": null,
   "metadata": {},
   "outputs": [],
   "source": [
    "# データの開始日と内容を確認\n",
    "df_nikkei_article.head(1).T"
   ]
  },
  {
   "cell_type": "code",
   "execution_count": null,
   "metadata": {
    "scrolled": false
   },
   "outputs": [],
   "source": [
    "# データの最終日を確認\n",
    "df_nikkei_article.tail(1).T"
   ]
  },
  {
   "cell_type": "code",
   "execution_count": null,
   "metadata": {},
   "outputs": [],
   "source": [
    "# 見出しの文字数の分布をプロット\n",
    "df_nikkei_article.headline.str.len().hist(figsize=(10,10), bins=50)"
   ]
  },
  {
   "cell_type": "code",
   "execution_count": null,
   "metadata": {},
   "outputs": [],
   "source": [
    "# 銘柄コードが含まれているデータを確認\n",
    "df_nikkei_article.loc[~df_nikkei_article.loc[:, \"company_g.stock_code\"].isnull()].head().T"
   ]
  },
  {
   "cell_type": "code",
   "execution_count": null,
   "metadata": {},
   "outputs": [],
   "source": [
    "# 月曜日を開始日として、週次の記事件数と銘柄コードを含む記事件数を取得\n",
    "df_weekly_count = df_nikkei_article.resample(\"W-MON\", label=\"left\", closed=\"left\")[[\"article_id\", \"company_g.stock_code\"]].count()"
   ]
  },
  {
   "cell_type": "code",
   "execution_count": null,
   "metadata": {},
   "outputs": [],
   "source": [
    "# 集計内容を確認\n",
    "df_weekly_count.head(3)"
   ]
  },
  {
   "cell_type": "code",
   "execution_count": null,
   "metadata": {},
   "outputs": [],
   "source": [
    "# 週次件数の統計量を確認\n",
    "df_weekly_count.describe()"
   ]
  },
  {
   "cell_type": "code",
   "execution_count": null,
   "metadata": {},
   "outputs": [],
   "source": [
    "#  週次件数の分布を確認\n",
    "df_weekly_count.hist(figsize=(20, 10), alpha=0.5, bins=25)"
   ]
  },
  {
   "cell_type": "code",
   "execution_count": null,
   "metadata": {
    "scrolled": false
   },
   "outputs": [],
   "source": [
    "# プロット\n",
    "ax = df_weekly_count.plot(figsize=(20, 8))\n",
    "# グリッド設定\n",
    "ax.grid(True)"
   ]
  },
  {
   "cell_type": "code",
   "execution_count": null,
   "metadata": {},
   "outputs": [],
   "source": []
  },
  {
   "cell_type": "code",
   "execution_count": null,
   "metadata": {},
   "outputs": [],
   "source": [
    "# 記事に記載されている銘柄コードを取得\n",
    "s_stocks = df_nikkei_article.loc[~df_nikkei_article.loc[:, \"company_g.stock_code\"].isnull(), \"company_g.stock_code\"].str.split(\"\\n\")"
   ]
  },
  {
   "cell_type": "code",
   "execution_count": null,
   "metadata": {},
   "outputs": [],
   "source": [
    "# 銘柄コード別の件数を取得\n",
    "s_stock_counts = pd.Series(Counter(chain.from_iterable(s_stocks))).sort_values(ascending=False)"
   ]
  },
  {
   "cell_type": "code",
   "execution_count": null,
   "metadata": {},
   "outputs": [],
   "source": [
    "# 投資対象銘柄に絞り込み\n",
    "s_stock_counts = s_stock_counts.loc[s_stock_counts.index.astype(int).isin(stock_codes)]"
   ]
  },
  {
   "cell_type": "code",
   "execution_count": null,
   "metadata": {
    "scrolled": false
   },
   "outputs": [],
   "source": [
    "# データフレームに変換して、インデックスをリセット\n",
    "df_stock_counts = s_stock_counts.to_frame().reset_index(drop=True)\n",
    "# カラム名を設定\n",
    "df_stock_counts.rename(columns={0: \"article_count\"}, inplace=True)\n",
    "# 投資対象銘柄全体におけるdisclosureItems別の件数の割合を算出\n",
    "df_stock_counts.loc[:, \"percentage\"] = (df_stock_counts[\"article_count\"] / df_stock_counts[\"article_count\"].sum()) * 100\n",
    "# 件数割合の累積を計算\n",
    "df_stock_counts.loc[:, \"cumulative_percentage\"] = df_stock_counts[\"percentage\"].cumsum()\n",
    "# 投資対象銘柄コード別の件数をプロット (全銘柄)\n",
    "ax = df_stock_counts[[\"article_count\"]].plot(figsize=(20, 8))\n",
    "#  グリッド設定\n",
    "ax.grid(True)\n",
    "# 凡例を左上に表示\n",
    "ax.legend(loc=\"upper left\")\n",
    "# 2つ目のy軸を作成\n",
    "ax2 = ax.twinx()\n",
    "# 開示件数割合の累積をプロット\n",
    "df_stock_counts[[\"cumulative_percentage\"]].reset_index(drop=True).plot(ax=ax2, color=\"orange\")\n",
    "# 凡例を右上に表示\n",
    "ax2.legend(loc=\"upper right\")"
   ]
  },
  {
   "cell_type": "code",
   "execution_count": null,
   "metadata": {},
   "outputs": [],
   "source": [
    "# 投資対象銘柄コード別の記事件数 (件数上位50銘柄)\n",
    "ax = s_stock_counts.head(50).plot.bar(figsize=(20, 8))\n",
    "#  グリッド設定\n",
    "ax.grid(True)"
   ]
  },
  {
   "cell_type": "code",
   "execution_count": null,
   "metadata": {},
   "outputs": [],
   "source": []
  },
  {
   "cell_type": "markdown",
   "metadata": {},
   "source": [
    "## 適時開示資料のメタデータを確認"
   ]
  },
  {
   "cell_type": "code",
   "execution_count": null,
   "metadata": {},
   "outputs": [],
   "source": [
    "# 件数を確認\n",
    "df_tdnet.info()"
   ]
  },
  {
   "cell_type": "code",
   "execution_count": null,
   "metadata": {},
   "outputs": [],
   "source": [
    "# データの開始日と内容を確認\n",
    "df_tdnet.head(1).T"
   ]
  },
  {
   "cell_type": "code",
   "execution_count": null,
   "metadata": {},
   "outputs": [],
   "source": [
    "# データの最終日を確認\n",
    "df_tdnet.tail(1).T"
   ]
  },
  {
   "cell_type": "code",
   "execution_count": null,
   "metadata": {},
   "outputs": [],
   "source": [
    "# 銘柄コードを4桁に変更\n",
    "df_tdnet.loc[:, \"stock_code\"] = df_tdnet.loc[:, \"code\"].astype(str).str[:4].astype(int)"
   ]
  },
  {
   "cell_type": "code",
   "execution_count": null,
   "metadata": {},
   "outputs": [],
   "source": [
    "# 投資対象銘柄に絞り込み\n",
    "filter_universe = df_tdnet.loc[:, \"stock_code\"].isin(stock_codes)"
   ]
  },
  {
   "cell_type": "code",
   "execution_count": null,
   "metadata": {},
   "outputs": [],
   "source": [
    "# 月曜日を開始日として、投資対象銘柄の週次の件数を取得\n",
    "df_tdnet_weekly_count = df_tdnet.loc[filter_universe].resample(\"W-MON\", label=\"left\", closed=\"left\")[[\"disclosureNumber\"]].count()"
   ]
  },
  {
   "cell_type": "code",
   "execution_count": null,
   "metadata": {},
   "outputs": [],
   "source": [
    "# 集計内容を確認\n",
    "df_tdnet_weekly_count.head(3)"
   ]
  },
  {
   "cell_type": "code",
   "execution_count": null,
   "metadata": {},
   "outputs": [],
   "source": [
    "# プロット\n",
    "ax = df_tdnet_weekly_count.plot(figsize=(20, 8))\n",
    "# グリッド設定\n",
    "ax.grid(True)"
   ]
  },
  {
   "cell_type": "code",
   "execution_count": null,
   "metadata": {},
   "outputs": [],
   "source": [
    "#  資対象銘柄の週次件数の分布を確認\n",
    "df_tdnet_weekly_count.hist(figsize=(10, 10))"
   ]
  },
  {
   "cell_type": "code",
   "execution_count": null,
   "metadata": {},
   "outputs": [],
   "source": [
    "# 投資対象銘柄のdisclosureItemsをリスト形式のシリーズとして取得\n",
    "s_disclosureItems = df_tdnet.loc[filter_universe, \"disclosureItems\"].apply(literal_eval)"
   ]
  },
  {
   "cell_type": "code",
   "execution_count": null,
   "metadata": {
    "scrolled": true
   },
   "outputs": [],
   "source": [
    "s_disclosureItems[:10]"
   ]
  },
  {
   "cell_type": "code",
   "execution_count": null,
   "metadata": {},
   "outputs": [],
   "source": [
    "# 投資対象銘柄のdisclosureItems別の件数を取得\n",
    "s_disclosureitems_count = pd.Series(Counter(chain.from_iterable(s_disclosureItems)))\n",
    "# カラム名を設定\n",
    "s_disclosureitems_count.name = \"disclosureItems_count\"\n",
    "# 公開項目コードをint型に変更\n",
    "s_disclosureitems_count.index = s_disclosureitems_count.index.astype(int)"
   ]
  },
  {
   "cell_type": "code",
   "execution_count": null,
   "metadata": {},
   "outputs": [],
   "source": [
    "# 項目の日本語名を表示するために適時開示資料の公開項目コードと結合\n",
    "df_disclosureitems_with_label = pd.merge(s_disclosureitems_count, df_disclosureitems, left_index=True, right_on=[\"公開項目コード\"])\n",
    "# indexを設定\n",
    "df_disclosureitems_with_label.set_index(\"コード値定義\", inplace=True)"
   ]
  },
  {
   "cell_type": "code",
   "execution_count": null,
   "metadata": {},
   "outputs": [],
   "source": [
    "# 投資対象銘柄のdisclosureItems別の件数を多い順に並び替え\n",
    "df_count_by_disclosureitems_with_label = df_disclosureitems_with_label.loc[:, [\"disclosureItems_count\"]].sort_values(\"disclosureItems_count\", ascending=False).reset_index(drop=True)\n",
    "# 投資対象銘柄全体におけるdisclosureItems別の件数の割合を算出\n",
    "df_count_by_disclosureitems_with_label.loc[:, \"percentage\"] = (df_count_by_disclosureitems_with_label[\"disclosureItems_count\"] / df_count_by_disclosureitems_with_label[\"disclosureItems_count\"].sum()) * 100\n",
    "# 件数割合の累積を計算\n",
    "df_count_by_disclosureitems_with_label.loc[:, \"cumulative_percentage\"] = df_count_by_disclosureitems_with_label[\"percentage\"].cumsum()\n",
    "# プロット (全て)\n",
    "ax = df_count_by_disclosureitems_with_label[[\"disclosureItems_count\"]].plot(figsize=(20, 8))\n",
    "#  グリッド設定\n",
    "ax.grid(True)\n",
    "# 凡例を左上に表示\n",
    "ax.legend(loc=\"upper left\")\n",
    "# 2つ目のy軸を作成\n",
    "ax2 = ax.twinx()\n",
    "# 開示件数割合の累積をプロット\n",
    "df_count_by_disclosureitems_with_label[[\"cumulative_percentage\"]].reset_index(drop=True).plot(ax=ax2, color=\"orange\")\n",
    "# 凡例を右上に表示\n",
    "ax2.legend(loc=\"upper right\")"
   ]
  },
  {
   "cell_type": "code",
   "execution_count": null,
   "metadata": {},
   "outputs": [],
   "source": [
    "# 投資対象銘柄のdisclosureItems別に件数を多い順にプロット (上位50項目)\n",
    "ax = df_disclosureitems_with_label.loc[:, [\"disclosureItems_count\"]].sort_values(\"disclosureItems_count\", ascending=False).head(50).plot(kind=\"bar\", figsize=(20, 8))\n",
    "#  グリッド設定\n",
    "ax.grid(True)"
   ]
  },
  {
   "cell_type": "code",
   "execution_count": null,
   "metadata": {},
   "outputs": [],
   "source": [
    "# 投資対象銘柄別に開示件数を集計して、開示件数の多い順に並び替え\n",
    "df_tdnet_count_by_stock_code = df_tdnet.loc[filter_universe].groupby(\"stock_code\")[[\"disclosureNumber\"]].count().sort_values(\"disclosureNumber\", ascending=False)\n",
    "# 投資対象銘柄全体における開示件数の割合を集計\n",
    "df_tdnet_count_by_stock_code.loc[:, \"percentage\"] = (df_tdnet_count_by_stock_code[\"disclosureNumber\"] / df_tdnet_count_by_stock_code[\"disclosureNumber\"].sum()) * 100\n",
    "# 開示件数割合の累積を計算\n",
    "df_tdnet_count_by_stock_code.loc[:, \"cumulative_percentage\"] = df_tdnet_count_by_stock_code[\"percentage\"].cumsum()\n",
    "# 投資対象銘柄別に開示件数を多い順にプロット\n",
    "ax = df_tdnet_count_by_stock_code[[\"disclosureNumber\"]].reset_index(drop=True).plot(figsize=(20, 8))\n",
    "# グリッド設定\n",
    "ax.grid(True)\n",
    "# 凡例を左上に表示\n",
    "ax.legend(loc=\"upper left\")\n",
    "# 2つ目のy軸を作成\n",
    "ax2 = ax.twinx()\n",
    "# 開示件数割合の累積をプロット\n",
    "df_tdnet_count_by_stock_code[[\"cumulative_percentage\"]].reset_index(drop=True).plot(ax=ax2, color=\"orange\")\n",
    "# 凡例を右上に表示\n",
    "ax2.legend(loc=\"upper right\")"
   ]
  },
  {
   "cell_type": "code",
   "execution_count": null,
   "metadata": {},
   "outputs": [],
   "source": [
    "# 投資対象銘柄別に開示件数を多い順にプロット (上位50銘柄)\n",
    "ax = df_tdnet.loc[filter_universe].groupby(\"stock_code\")[[\"disclosureNumber\"]].count().sort_values(\"disclosureNumber\", ascending=False).head(50).plot(kind=\"bar\", figsize=(20, 8))\n",
    "# 　グリッド設定\n",
    "ax.grid(True)"
   ]
  },
  {
   "cell_type": "code",
   "execution_count": null,
   "metadata": {},
   "outputs": [],
   "source": []
  }
 ],
 "metadata": {
  "kernelspec": {
   "display_name": "Python 3",
   "language": "python",
   "name": "python3"
  },
  "language_info": {
   "codemirror_mode": {
    "name": "ipython",
    "version": 3
   },
   "file_extension": ".py",
   "mimetype": "text/x-python",
   "name": "python",
   "nbconvert_exporter": "python",
   "pygments_lexer": "ipython3",
   "version": "3.7.3"
  }
 },
 "nbformat": 4,
 "nbformat_minor": 2
}
