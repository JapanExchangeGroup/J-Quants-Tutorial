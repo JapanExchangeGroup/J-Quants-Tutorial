{
  "nbformat": 4,
  "nbformat_minor": 0,
  "metadata": {
    "accelerator": "GPU",
    "colab": {
      "name": "20210224_chapter06_tutorial_test_predictor.ipynb",
      "provenance": [],
      "collapsed_sections": []
    },
    "kernelspec": {
      "display_name": "Python 3",
      "language": "python",
      "name": "python3"
    },
    "language_info": {
      "codemirror_mode": {
        "name": "ipython",
        "version": 3
      },
      "file_extension": ".py",
      "mimetype": "text/x-python",
      "name": "python",
      "nbconvert_exporter": "python",
      "pygments_lexer": "ipython3",
      "version": "3.7.3"
    }
  },
  "cells": [
    {
      "cell_type": "markdown",
      "metadata": {
        "id": "kuJ9JciXH_CA"
      },
      "source": [
        "# 6章で作成したモデルのテスト実行"
      ]
    },
    {
      "cell_type": "markdown",
      "metadata": {
        "id": "TOT0r0EsIGty"
      },
      "source": [
        "## 事前準備\n",
        "\n",
        "本ノートブックの実行には以下の事前準備が必要です。\n",
        "\n",
        "- Google Drive の My Drive 配下に以下のディレクトリ構造でファイルを配置します。\n",
        "\n",
        "```\n",
        "MyDrive/JPX_competition/\n",
        "├── Chapter06\n",
        "│   ├── 20210224_chapter06_tutorial_test_predictor.ipynb <= 本ノートブック download:11\n",
        "│   └── archive  <= 投稿用パッケージの起点となるフォルダ\n",
        "│       ├── model\n",
        "│       │   ├── headline_features\n",
        "│       │   │   ├── 19.ckpt  <= 6章で作成した LSTM モデルの学習済みパラメータ download:03\n",
        "│       │   │   └── LSTM_sentiment.pkl  <= 6章で作成したセンチメント download:04\n",
        "│       │   ├── my_model_label_high_20.pkl  <= 2章で作成した最高値予測モデル download:01\n",
        "│       │   ├── my_model_label_low_20.pkl  <= 2章で作成した最安値予測モデル download:02\n",
        "│       ├── src\n",
        "│       │   ├── module.py  <= 5章/6章のコードをまとめたもの download:13\n",
        "│       │   └── predictor.py  <= 4章のコードに一部追記してニュースデータを使用して現金比率操作を追記したもの download:14\n",
        "│       └── requirements.txt\n",
        "└── data_dir_comp2\n",
        "     ├── nikkei_article.csv.gz  <= download:05\n",
        "     ├── stock_fin.csv.gz  <= download:06\n",
        "     ├── stock_fin_price.csv.gz  <= download:07\n",
        "     ├── stock_list.csv.gz  <= download:08\n",
        "     ├── stock_price.csv.gz  <= download:09\n",
        "     └── tdnet.csv.gz  <= download:10\n",
        "```\n"
      ]
    },
    {
      "cell_type": "markdown",
      "metadata": {
        "id": "rtXBaLCwLq4o"
      },
      "source": [
        "## 実行環境設定"
      ]
    },
    {
      "cell_type": "markdown",
      "metadata": {
        "id": "wSemiuj8L3DR"
      },
      "source": [
        "Google Driveをマウントします。"
      ]
    },
    {
      "cell_type": "code",
      "metadata": {
        "id": "Ez3kFYdTMTNS"
      },
      "source": [
        "import sys\n",
        "\n",
        "if 'google.colab' in sys.modules:\n",
        "    # Google Drive をマウントします\n",
        "    from google.colab import drive\n",
        "    mount_dir = \"/content/drive\"\n",
        "    drive.mount(mount_dir)"
      ],
      "execution_count": null,
      "outputs": []
    },
    {
      "cell_type": "markdown",
      "metadata": {
        "id": "LmaM3cDWNG5_"
      },
      "source": [
        "環境に応じて使用するディレクトリを設定します。配置した.pyファイルをimportできるようにsys.pathに配置先のディレクトリを追加しています。"
      ]
    },
    {
      "cell_type": "code",
      "metadata": {
        "id": "D5_G9O7_MOKm"
      },
      "source": [
        "if 'google.colab' in sys.modules:\n",
        "    # Google Colab環境では上記に示したディレクトリ設定を使用します。\n",
        "    # archiveディレクトリを指定します。\n",
        "    archive_path = f\"{mount_dir}/MyDrive/JPX_competition/Chapter06/archive\"\n",
        "    # 実装例のコードを配置したディレクトリを指定します。\n",
        "    src_path = f\"{mount_dir}/MyDrive/JPX_competition/Chapter06/archive/src\"\n",
        "    # sys.pathを設定\n",
        "    sys.path.append(src_path)\n",
        "    # ダウンロードしてきたデータを配置したディレクトリを設定します。\n",
        "    dataset_dir = f\"{mount_dir}/MyDrive/JPX_competition/data_dir_comp2\"\n",
        "    # 2章のモデルを配置したディレクトリを設定します。\n",
        "    # このディレクトリにBERTの事前学習済みモデルをダウンロードして保存します。\n",
        "    model_path = f\"{mount_dir}/MyDrive/JPX_competition/Chapter06/archive/model\"\n",
        "    # テスト用に出力したポートフォリオを保存するディレクトリを設定します\n",
        "    output_path = f\"{mount_dir}/MyDrive/JPX_competition/Chapter06\"\n",
        "else:\n",
        "    # archiveディレクトリを指定します。\n",
        "    archive_path = \"archive\"\n",
        "    # 実装例のコードを配置したディレクトリを指定します。\n",
        "    src_path = \"archive/src\"\n",
        "    # sys.pathを設定\n",
        "    sys.path.append(src_path)\n",
        "    # ダウンロードしてきたデータを配置したディレクトリを設定します。\n",
        "    dataset_dir = \"/notebook/data_dir_comp2\"\n",
        "    # 2章のモデルを配置したディレクトリを設定します。\n",
        "    # このディレクトリにBERTの事前学習済みモデルをダウンロードして保存します。\n",
        "    model_path = \"archive/model\"\n",
        "    # テスト用に出力したポートフォリオを保存するディレクトリを設定します\n",
        "    output_path = \".\""
      ],
      "execution_count": null,
      "outputs": []
    },
    {
      "cell_type": "markdown",
      "metadata": {
        "id": "waV8NoxZoCRw"
      },
      "source": [
        "必要なライブラリをインストールします。ここでインストールしているライブラリは投稿用にパッケージ化する際に、requiments.txt に記載します。"
      ]
    },
    {
      "cell_type": "code",
      "metadata": {
        "id": "sJELObnsWnOZ"
      },
      "source": [
        "# neologdnのためにg++をインストール\n",
        "! apt-get update\n",
        "! apt-get install -y --no-install-recommends g++"
      ],
      "execution_count": null,
      "outputs": []
    },
    {
      "cell_type": "code",
      "metadata": {
        "id": "4sJxP6HUGOzJ"
      },
      "source": [
        "# 必要なライブラリをインストール\n",
        "!pip install -r $archive_path/requirements.txt"
      ],
      "execution_count": null,
      "outputs": []
    },
    {
      "cell_type": "markdown",
      "metadata": {
        "id": "4D0kufawq9KX"
      },
      "source": [
        "ランタイム環境でpredictメソッドが呼ばれるときに渡される inputs パラメーターを実行環境に合わせて作成します。"
      ]
    },
    {
      "cell_type": "code",
      "metadata": {
        "id": "qJ3E-RbyGOzN"
      },
      "source": [
        "# predictメソッドへの入力パラメーターを設定します。\n",
        "# ランタイム環境での実行時と同一フォーマットにします\n",
        "inputs = {\n",
        "    \"stock_list\": f\"{dataset_dir}/stock_list.csv.gz\",\n",
        "    \"stock_price\": f\"{dataset_dir}/stock_price.csv.gz\",\n",
        "    \"stock_fin\": f\"{dataset_dir}/stock_fin.csv.gz\",\n",
        "    \"stock_fin_price\": f\"{dataset_dir}/stock_fin_price.csv.gz\",\n",
        "    # ニュースデータ\n",
        "    \"tdnet\": f\"{dataset_dir}/tdnet.csv.gz\",\n",
        "    \"disclosureItems\": f\"{dataset_dir}/disclosureItems.csv.gz\",\n",
        "    \"nikkei_article\": f\"{dataset_dir}/nikkei_article.csv.gz\",\n",
        "    \"article\": f\"{dataset_dir}/article.csv.gz\",\n",
        "    \"industry\": f\"{dataset_dir}/industry.csv.gz\",\n",
        "    \"industry2\": f\"{dataset_dir}/industry2.csv.gz\",\n",
        "    \"region\": f\"{dataset_dir}/region.csv.gz\",\n",
        "    \"theme\": f\"{dataset_dir}/theme.csv.gz\",\n",
        "    # 目的変数データ\n",
        "    \"stock_labels\": f\"{dataset_dir}/stock_labels.csv.gz\",\n",
        "    # 購入日指定データ\n",
        "    \"purchase_date\": f\"{dataset_dir}/purchase_date.csv\"\n",
        "}"
      ],
      "execution_count": null,
      "outputs": []
    },
    {
      "cell_type": "markdown",
      "metadata": {
        "id": "YVnvayswGO7X"
      },
      "source": [
        "## BERTの事前学習済みモデルをダウンロード\n",
        "\n",
        "ランタイム環境ではインターネットにアクセスできないため、BERTの事前学習済みモデルを `{model_path}/transformers` 配下にダウンロードしておきます。"
      ]
    },
    {
      "cell_type": "code",
      "metadata": {
        "id": "QrxgwWGn2ZWT"
      },
      "source": [
        "from module import SentimentGenerator"
      ],
      "execution_count": null,
      "outputs": []
    },
    {
      "cell_type": "code",
      "metadata": {
        "id": "rZVD2lVF2F72"
      },
      "source": [
        "SentimentGenerator.load_feature_extractor(model_path, download=True, save_local=True)"
      ],
      "execution_count": null,
      "outputs": []
    },
    {
      "cell_type": "code",
      "metadata": {
        "id": "y8g_NTye2Lvh"
      },
      "source": [
        "SentimentGenerator.load_bert_tokenizer(model_path, download=True, save_local=True)"
      ],
      "execution_count": null,
      "outputs": []
    },
    {
      "cell_type": "markdown",
      "metadata": {
        "id": "QaptcG7O_mEt"
      },
      "source": [
        "BERTの事前学習済みモデルが保存されていることを確認します。"
      ]
    },
    {
      "cell_type": "code",
      "metadata": {
        "id": "13JXfJmz_oZX"
      },
      "source": [
        "! ls -lhR $model_path"
      ],
      "execution_count": null,
      "outputs": []
    },
    {
      "cell_type": "markdown",
      "metadata": {
        "id": "ONkY3XMXGgiH"
      },
      "source": [
        "## ランタイム環境を想定したテスト実行\n",
        "\n",
        "ランタイム環境で実行されるのと同等の呼び出し方でテスト実行します。"
      ]
    },
    {
      "cell_type": "code",
      "metadata": {
        "id": "mjpRq2MH2dpk"
      },
      "source": [
        "from predictor import ScoringService"
      ],
      "execution_count": null,
      "outputs": []
    },
    {
      "cell_type": "markdown",
      "metadata": {
        "id": "DKRZq8JSWnOc"
      },
      "source": [
        "get_modelメソッドを呼び出すことで以下を実施ます。\n",
        "1. BERTの事前学習済みモデルを読み込み\n",
        "2. BERTの事前学習済みモデルに使用したTokenizerを読み込み\n",
        "3. 事前学習済みの最高値・最安値モデルを読み込み"
      ]
    },
    {
      "cell_type": "code",
      "metadata": {
        "id": "vw4ITkeFBVxw"
      },
      "source": [
        "ScoringService.get_model(model_path)"
      ],
      "execution_count": null,
      "outputs": []
    },
    {
      "cell_type": "markdown",
      "metadata": {
        "id": "XUF2_Gi08jH7"
      },
      "source": [
        "ランタイム環境と同一のデータセットを使用していないため、ダウンロードしたデータを使用して動作確認するために予測出力対象日 (start_dt) を 2020-12-28 と指定したpurchase_dateファイルを作成します。このコードを実行することで既に purchase_date.csv が存在している場合は上書きされることに注意してください。"
      ]
    },
    {
      "cell_type": "code",
      "metadata": {
        "id": "4_nVAn_5WnOd"
      },
      "source": [
        "! echo \"Purchase Date\" > $dataset_dir/purchase_date.csv\n",
        "! echo \"2020-12-28\" >> $dataset_dir/purchase_date.csv"
      ],
      "execution_count": null,
      "outputs": []
    },
    {
      "cell_type": "markdown",
      "metadata": {
        "id": "2khSQtPGWnOd"
      },
      "source": [
        "予測を実行します。"
      ]
    },
    {
      "cell_type": "code",
      "metadata": {
        "id": "6O4hRKOMBVis"
      },
      "source": [
        "ret = ScoringService.predict(inputs)"
      ],
      "execution_count": null,
      "outputs": []
    },
    {
      "cell_type": "markdown",
      "metadata": {
        "id": "8jgNKvd0HMY4"
      },
      "source": [
        "## 出力の確認\n",
        "\n",
        "予測出力の実行結果を確認します。確認ポイントは以下になります。\n",
        "\n",
        "- 出力のフォーマットが規定されているものと一致していること"
      ]
    },
    {
      "cell_type": "code",
      "metadata": {
        "id": "sRAV3b-DGOzO"
      },
      "source": [
        "print(\"\\n\".join(ret.split(\"\\n\")[:10]))"
      ],
      "execution_count": null,
      "outputs": []
    },
    {
      "cell_type": "markdown",
      "metadata": {
        "id": "oUmKN3irHi7k"
      },
      "source": [
        "## 出力の保存\n",
        "\n",
        "バックテストを実行して検証するために出力を保存することもできます。保存したファイルを3章に記載されている方法でバックテストすることでモデル出力を評価することができます。"
      ]
    },
    {
      "cell_type": "code",
      "metadata": {
        "id": "TKZ16R87vK6d"
      },
      "source": [
        "# 出力を保存\n",
        "with open(f\"{output_path}/chapter06-tutorial-1.csv\", mode=\"w\") as f:\n",
        "    f.write(ret)"
      ],
      "execution_count": null,
      "outputs": []
    },
    {
      "cell_type": "code",
      "metadata": {
        "id": "iNrvL9E2xplr"
      },
      "source": [
        ""
      ],
      "execution_count": null,
      "outputs": []
    },
    {
      "cell_type": "markdown",
      "metadata": {
        "id": "WUteD3_z9tco"
      },
      "source": [
        "## 投稿用パッケージを作成"
      ]
    },
    {
      "cell_type": "markdown",
      "metadata": {
        "id": "96zKPQx09tTh"
      },
      "source": [
        ""
      ]
    },
    {
      "cell_type": "code",
      "metadata": {
        "id": "OgN2PBMeGx_T"
      },
      "source": [
        "import os\n",
        "import zipfile\n",
        "\n",
        "# 提出用パッケージ名\n",
        "package_file = \"chapter06-model.zip\"\n",
        "# パッケージファイルパス\n",
        "package_path = f\"{output_path}/{package_file}\"\n",
        "\n",
        "# zipファイルを作成\n",
        "with zipfile.ZipFile(package_path, \"w\") as f:\n",
        "    # requirements.txt を追加\n",
        "    print(f\"[+] add {archive_path}/requirements.txt to requirements.txt\")\n",
        "    f.write(f\"{archive_path}/requirements.txt\", \"requirements.txt\")\n",
        "\n",
        "    # model/配下を追加\n",
        "    for root, dirs, files in os.walk(model_path):\n",
        "        for file in files:\n",
        "            add_path = os.path.join(root, file)\n",
        "            rel_path = os.path.relpath(\n",
        "                os.path.join(root, file),\n",
        "                os.path.join(model_path, '..')\n",
        "            )\n",
        "            print(f\"[+] add {add_path} to {rel_path}\")\n",
        "            f.write(add_path, rel_path)\n",
        "\n",
        "    # src/module.py を追加\n",
        "    print(f\"[+] add {src_path}/module.py to src/module.py\")\n",
        "    f.write(f\"{src_path}/module.py\", \"src/module.py\")\n",
        "    # src/predictor.py を追加\n",
        "    print(f\"[+] add {src_path}/predictor.py to src/predictor.py\")\n",
        "    f.write(f\"{src_path}/predictor.py\", \"src/predictor.py\")\n",
        "\n",
        "print(f\"[+] please check {package_path}\")"
      ],
      "execution_count": null,
      "outputs": []
    },
    {
      "cell_type": "code",
      "metadata": {
        "id": "VAbO7ySRTlUz"
      },
      "source": [
        ""
      ],
      "execution_count": null,
      "outputs": []
    }
  ]
}